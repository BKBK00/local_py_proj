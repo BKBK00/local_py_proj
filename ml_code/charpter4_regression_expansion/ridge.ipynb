{
 "cells": [
  {
   "cell_type": "markdown",
   "metadata": {},
   "source": [
    "## Ridge"
   ]
  },
  {
   "cell_type": "code",
   "execution_count": 1,
   "metadata": {},
   "outputs": [],
   "source": [
    "### numpy版本为1.20.3\n",
    "import numpy as np\n",
    "import pandas as pd"
   ]
  },
  {
   "cell_type": "code",
   "execution_count": 2,
   "metadata": {},
   "outputs": [
    {
     "name": "stdout",
     "output_type": "stream",
     "text": [
      "(70, 101) (70, 1) (31, 101) (31, 1)\n"
     ]
    }
   ],
   "source": [
    "data = np.genfromtxt('example.dat', delimiter=',')\n",
    "# 选择特征与标签\n",
    "x = data[:,0:100] \n",
    "y = data[:,100].reshape(-1,1)\n",
    "# 加一列\n",
    "X = np.column_stack((np.ones((x.shape[0],1)),x))\n",
    "\n",
    "# 划分训练集与测试集\n",
    "X_train, y_train = X[:70], y[:70]\n",
    "X_test, y_test = X[70:], y[70:]\n",
    "print(X_train.shape, y_train.shape, X_test.shape, y_test.shape)"
   ]
  },
  {
   "cell_type": "code",
   "execution_count": 3,
   "metadata": {},
   "outputs": [],
   "source": [
    "# 定义参数初始化函数\n",
    "def initialize(dims):\n",
    "    w = np.zeros((dims, 1))\n",
    "    b = 0\n",
    "    return w, b"
   ]
  },
  {
   "cell_type": "code",
   "execution_count": 4,
   "metadata": {},
   "outputs": [],
   "source": [
    "# 定义ridge损失函数\n",
    "def l2_loss(X, y, w, b, alpha):\n",
    "    num_train = X.shape[0]\n",
    "    num_feature = X.shape[1]\n",
    "    y_hat = np.dot(X, w) + b\n",
    "    loss = np.sum((y_hat-y)**2)/num_train + alpha*(np.sum(np.square(w)))\n",
    "    dw = np.dot(X.T, (y_hat-y)) /num_train + 2*alpha*w\n",
    "    db = np.sum((y_hat-y)) /num_train\n",
    "    return y_hat, loss, dw, db"
   ]
  },
  {
   "cell_type": "code",
   "execution_count": 5,
   "metadata": {},
   "outputs": [],
   "source": [
    "# 定义训练过程\n",
    "def ridge_train(X, y, learning_rate=0.01, epochs=300):\n",
    "    loss_list = []\n",
    "    w, b = initialize(X.shape[1])\n",
    "    for i in range(1, epochs):\n",
    "        y_hat, loss, dw, db = l2_loss(X, y, w, b, 0.1)\n",
    "        w += -learning_rate * dw\n",
    "        b += -learning_rate * db\n",
    "        loss_list.append(loss)\n",
    "        \n",
    "        if i % 100 == 0:\n",
    "            print('epoch %d loss %f' % (i, loss))\n",
    "        params = {\n",
    "            'w': w,\n",
    "            'b': b\n",
    "        }\n",
    "        grads = {\n",
    "            'dw': dw,\n",
    "            'db': db\n",
    "        }\n",
    "    return loss, loss_list, params, grads"
   ]
  },
  {
   "cell_type": "code",
   "execution_count": 21,
   "metadata": {},
   "outputs": [
    {
     "name": "stdout",
     "output_type": "stream",
     "text": [
      "epoch 100 loss 1.272892\n",
      "epoch 200 loss 0.918566\n",
      "epoch 300 loss 0.824857\n",
      "epoch 400 loss 0.786619\n",
      "epoch 500 loss 0.767618\n",
      "epoch 600 loss 0.757040\n",
      "epoch 700 loss 0.750696\n",
      "epoch 800 loss 0.746687\n",
      "epoch 900 loss 0.744053\n"
     ]
    }
   ],
   "source": [
    "# 执行训练示例\n",
    "loss, loss_list, params, grads = ridge_train(X_train, y_train, 0.01, 1000)"
   ]
  },
  {
   "cell_type": "code",
   "execution_count": 22,
   "metadata": {},
   "outputs": [
    {
     "data": {
      "text/plain": [
       "{'w': array([[-0.04196546],\n",
       "        [-0.10129988],\n",
       "        [ 0.39150459],\n",
       "        [ 0.27116379],\n",
       "        [ 0.14453605],\n",
       "        [ 0.64205522],\n",
       "        [-0.11777636],\n",
       "        [ 0.63100371],\n",
       "        [-0.24612371],\n",
       "        [-0.01809963],\n",
       "        [-0.0098817 ],\n",
       "        [ 0.59860774],\n",
       "        [ 0.05109339],\n",
       "        [ 0.57323775],\n",
       "        [ 0.0717013 ],\n",
       "        [-0.2494207 ],\n",
       "        [ 0.05841939],\n",
       "        [ 0.34882372],\n",
       "        [-0.05196151],\n",
       "        [ 0.59741259],\n",
       "        [ 0.07360193],\n",
       "        [-0.00804983],\n",
       "        [-0.08417487],\n",
       "        [ 0.38967928],\n",
       "        [-0.02238394],\n",
       "        [-0.05105738],\n",
       "        [-0.04475576],\n",
       "        [-0.04810095],\n",
       "        [-0.05424062],\n",
       "        [ 0.36298941],\n",
       "        [ 0.09421072],\n",
       "        [ 0.12947524],\n",
       "        [ 0.12975187],\n",
       "        [ 0.13770473],\n",
       "        [-0.11610581],\n",
       "        [-0.03832583],\n",
       "        [ 0.07592514],\n",
       "        [-0.05664576],\n",
       "        [-0.01481198],\n",
       "        [-0.13093971],\n",
       "        [-0.03888878],\n",
       "        [ 0.04806379],\n",
       "        [ 0.07572836],\n",
       "        [ 0.02141963],\n",
       "        [-0.0614007 ],\n",
       "        [ 0.06729191],\n",
       "        [ 0.04008781],\n",
       "        [-0.10963405],\n",
       "        [ 0.01420552],\n",
       "        [ 0.16873802],\n",
       "        [ 0.0224207 ],\n",
       "        [-0.15348103],\n",
       "        [ 0.14905584],\n",
       "        [ 0.01561819],\n",
       "        [-0.02441497],\n",
       "        [-0.03295334],\n",
       "        [ 0.25312019],\n",
       "        [-0.04258556],\n",
       "        [-0.29287108],\n",
       "        [-0.29727421],\n",
       "        [ 0.24557737],\n",
       "        [ 0.09651535],\n",
       "        [ 0.08340742],\n",
       "        [ 0.10361739],\n",
       "        [ 0.15327439],\n",
       "        [-0.13955045],\n",
       "        [ 0.03098354],\n",
       "        [-0.08871406],\n",
       "        [-0.1399495 ],\n",
       "        [ 0.34909413],\n",
       "        [ 0.25747902],\n",
       "        [-0.06286765],\n",
       "        [ 0.1647463 ],\n",
       "        [ 0.33578424],\n",
       "        [ 0.15741705],\n",
       "        [ 0.21992387],\n",
       "        [-0.00607112],\n",
       "        [-0.17332475],\n",
       "        [ 0.14796202],\n",
       "        [ 0.08563692],\n",
       "        [ 0.07206544],\n",
       "        [ 0.26622856],\n",
       "        [-0.13541505],\n",
       "        [-0.0260657 ],\n",
       "        [ 0.01670993],\n",
       "        [-0.13668085],\n",
       "        [-0.19075803],\n",
       "        [-0.02781821],\n",
       "        [ 0.22166602],\n",
       "        [-0.26971977],\n",
       "        [-0.12248242],\n",
       "        [-0.08364962],\n",
       "        [ 0.31015334],\n",
       "        [ 0.1617263 ],\n",
       "        [ 0.11999462],\n",
       "        [ 0.04892356],\n",
       "        [-0.12183373],\n",
       "        [ 0.16720899],\n",
       "        [ 0.08939526],\n",
       "        [-0.24464656],\n",
       "        [ 0.15278414]]),\n",
       " 'b': -0.12715818630193307}"
      ]
     },
     "execution_count": 22,
     "metadata": {},
     "output_type": "execute_result"
    }
   ],
   "source": [
    "# 获取训练参数\n",
    "params"
   ]
  },
  {
   "cell_type": "code",
   "execution_count": 23,
   "metadata": {},
   "outputs": [
    {
     "data": {
      "text/plain": [
       "array([[-0.07363409],\n",
       "       [-2.23904964],\n",
       "       [ 1.35392332],\n",
       "       [-2.21912506],\n",
       "       [-2.56515114]])"
      ]
     },
     "execution_count": 23,
     "metadata": {},
     "output_type": "execute_result"
    }
   ],
   "source": [
    "# 定义预测函数\n",
    "def predict(X, params):\n",
    "    w = params['w']\n",
    "    b = params['b']\n",
    "    \n",
    "    y_pred = np.dot(X, w) + b\n",
    "    return y_pred\n",
    "\n",
    "y_pred = predict(X_test, params)\n",
    "y_pred[:5]"
   ]
  },
  {
   "cell_type": "code",
   "execution_count": 25,
   "metadata": {},
   "outputs": [
    {
     "data": {
      "text/plain": [
       "array([[ 0.24671],\n",
       "       [-4.25711],\n",
       "       [ 2.38642],\n",
       "       [-1.87815],\n",
       "       [-3.41362]])"
      ]
     },
     "execution_count": 25,
     "metadata": {},
     "output_type": "execute_result"
    }
   ],
   "source": [
    "y_test[:5]"
   ]
  },
  {
   "cell_type": "code",
   "execution_count": 26,
   "metadata": {},
   "outputs": [
    {
     "data": {
      "text/plain": [
       "0.37904012691697686"
      ]
     },
     "execution_count": 26,
     "metadata": {},
     "output_type": "execute_result"
    }
   ],
   "source": [
    "from sklearn.metrics import r2_score\n",
    "r2_score(y_test, y_pred)"
   ]
  },
  {
   "cell_type": "code",
   "execution_count": 27,
   "metadata": {},
   "outputs": [
    {
     "data": {
      "image/png": "[encoded data removed]",
      "text/plain": [
       "<Figure size 432x288 with 1 Axes>"
      ]
     },
     "metadata": {
      "needs_background": "light"
     },
     "output_type": "display_data"
    }
   ],
   "source": [
    "# 简单绘图\n",
    "import matplotlib.pyplot as plt\n",
    "f = X_test.dot(params['w']) + params['b']\n",
    "\n",
    "plt.scatter(range(X_test.shape[0]), y_test)\n",
    "plt.plot(f, color = 'darkorange')\n",
    "plt.xlabel('X')\n",
    "plt.ylabel('y')\n",
    "plt.show();"
   ]
  },
  {
   "cell_type": "code",
   "execution_count": 28,
   "metadata": {},
   "outputs": [
    {
     "data": {
      "image/png": "[encoded data removed]",
      "text/plain": [
       "<Figure size 432x288 with 1 Axes>"
      ]
     },
     "metadata": {
      "needs_background": "light"
     },
     "output_type": "display_data"
    }
   ],
   "source": [
    "# 训练过程中的损失下降\n",
    "plt.plot(loss_list, color = 'blue')\n",
    "plt.xlabel('epochs')\n",
    "plt.ylabel('loss')\n",
    "plt.show()"
   ]
  },
  {
   "cell_type": "code",
   "execution_count": 29,
   "metadata": {},
   "outputs": [
    {
     "name": "stdout",
     "output_type": "stream",
     "text": [
      "sklearn Ridge intercept : [-0.40576153]\n",
      "\n",
      "sklearn Ridge coefficients :\n",
      " [[ 0.00000000e+00 -2.01786172e-01  5.45135248e-01  3.28370796e-01\n",
      "   7.88208577e-02  8.63329630e-01 -1.28629181e-01  8.98548367e-01\n",
      "  -4.15384520e-01  1.58905870e-01 -2.93807956e-02  6.32380717e-01\n",
      "   4.21771945e-02  9.24308741e-01  1.20277300e-01 -3.85333806e-01\n",
      "   1.63068579e-01  3.98963430e-01 -2.55902692e-02  8.88008417e-01\n",
      "   3.69510302e-02  5.63702626e-04 -1.74758205e-01  4.51826721e-01\n",
      "  -7.30107159e-02 -1.35017481e-01  5.39686001e-02 -4.02425081e-03\n",
      "  -6.07507156e-02  3.75631827e-01  8.57162815e-02  1.45771573e-01\n",
      "   1.44022204e-01  1.98972072e-01 -1.74729670e-01 -4.55411141e-02\n",
      "   2.10931708e-01 -4.20589474e-02 -1.16955409e-01 -3.48704701e-01\n",
      "   9.24987738e-02 -3.59919666e-02  3.12791851e-02  9.89341477e-02\n",
      "  -3.20373964e-02  5.01884867e-04  2.52601261e-02 -1.43870413e-01\n",
      "  -2.01630343e-01 -2.04659068e-02  1.39960583e-01 -2.40332862e-01\n",
      "   1.64551174e-01  1.05411007e-02 -1.27446721e-01 -8.05713152e-02\n",
      "   3.16799224e-01  2.97473607e-02 -3.62918779e-01 -4.33764143e-01\n",
      "   1.85767035e-01  2.22954621e-01 -9.97451115e-02  3.27282961e-02\n",
      "   2.41888947e-01 -2.56520012e-01 -9.21607311e-02 -1.32705556e-01\n",
      "  -3.01710290e-01  3.25678251e-01  3.98328108e-01 -3.75685067e-02\n",
      "   4.76284105e-01  4.66239153e-01  2.50059297e-01  3.35426970e-01\n",
      "  -3.25276476e-04 -5.62721088e-02  3.05320327e-03  2.27021494e-01\n",
      "   7.11869767e-02  1.96095806e-01 -4.35819139e-02 -1.69205809e-01\n",
      "  -2.33710367e-02 -1.70079831e-01 -1.29346798e-01 -3.03112649e-02\n",
      "   2.51270814e-01 -2.49230435e-01  6.83981071e-03 -2.30530011e-01\n",
      "   4.31418878e-01  2.76385366e-01  3.30323011e-01 -7.26567151e-03\n",
      "  -2.07740223e-01  2.47716612e-01  5.77447938e-02 -3.48931162e-01\n",
      "   1.59732296e-01]]\n"
     ]
    }
   ],
   "source": [
    "# 导入线性模型模块\n",
    "from sklearn.linear_model import Ridge\n",
    "# 创建Ridge模型实例\n",
    "clf = Ridge(alpha=1.0)\n",
    "# 对训练集进行拟合\n",
    "clf.fit(X_train, y_train)\n",
    "# 打印模型相关系数\n",
    "print(\"sklearn Ridge intercept :\", clf.intercept_)\n",
    "print(\"\\nsklearn Ridge coefficients :\\n\", clf.coef_)"
   ]
  },
  {
   "cell_type": "code",
   "execution_count": 30,
   "metadata": {},
   "outputs": [
    {
     "data": {
      "text/plain": [
       "0.3131614134496792"
      ]
     },
     "execution_count": 30,
     "metadata": {},
     "output_type": "execute_result"
    }
   ],
   "source": [
    "y_pred_rg = clf.predict(X_test)\n",
    "r2_score(y_test, y_pred_rg)"
   ]
  },
  {
   "cell_type": "code",
   "execution_count": null,
   "metadata": {},
   "outputs": [],
   "source": []
  }
 ],
 "metadata": {
  "kernelspec": {
   "display_name": "Python 3 (ipykernel)",
   "language": "python",
   "name": "python3"
  },
  "language_info": {
   "codemirror_mode": {
    "name": "ipython",
    "version": 3
   },
   "file_extension": ".py",
   "mimetype": "text/x-python",
   "name": "python",
   "nbconvert_exporter": "python",
   "pygments_lexer": "ipython3",
   "version": "3.9.7"
  },
  "toc": {
   "base_numbering": 1,
   "nav_menu": {},
   "number_sections": true,
   "sideBar": true,
   "skip_h1_title": false,
   "title_cell": "Table of Contents",
   "title_sidebar": "Contents",
   "toc_cell": false,
   "toc_position": {},
   "toc_section_display": true,
   "toc_window_display": false
  }
 },
 "nbformat": 4,
 "nbformat_minor": 2
}
