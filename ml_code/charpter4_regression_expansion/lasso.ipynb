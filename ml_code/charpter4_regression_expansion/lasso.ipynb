{
 "cells": [
  {
   "cell_type": "markdown",
   "metadata": {},
   "source": [
    "### LASSO"
   ]
  },
  {
   "cell_type": "code",
   "execution_count": 1,
   "metadata": {},
   "outputs": [],
   "source": [
    "### numpy版本为1.20.3\n",
    "import numpy as np\n",
    "import pandas as pd"
   ]
  },
  {
   "cell_type": "code",
   "execution_count": 2,
   "metadata": {},
   "outputs": [
    {
     "data": {
      "text/plain": [
       "(101, 101)"
      ]
     },
     "execution_count": 2,
     "metadata": {},
     "output_type": "execute_result"
    }
   ],
   "source": [
    "data = np.genfromtxt('example.dat', delimiter=',')\n",
    "data.shape"
   ]
  },
  {
   "cell_type": "code",
   "execution_count": 3,
   "metadata": {},
   "outputs": [
    {
     "data": {
      "text/plain": [
       "array([-1.14558, -1.29249,  0.84911,  0.36008,  0.26068,  2.51167,\n",
       "        2.31855,  0.60805,  0.3428 , -0.28903,  0.70398,  1.18534,\n",
       "       -1.44321, -0.72979, -0.06026, -0.50449, -0.3148 ,  0.94552,\n",
       "       -0.32453, -0.09248,  0.84448,  0.32551,  0.57684, -0.12461,\n",
       "       -0.5531 , -1.37074, -0.85719,  0.05802,  0.27486, -0.09269,\n",
       "        0.28742, -1.29854,  0.66856,  0.02223,  0.28599, -0.28722,\n",
       "        0.54304,  0.67301, -0.67343,  1.19857,  1.35595,  1.53356,\n",
       "       -0.61245,  1.91698,  1.89642,  1.28004,  0.60073, -0.37792,\n",
       "        0.34903,  2.17043, -1.52004, -0.75143, -0.54607, -0.46285,\n",
       "        0.28424,  0.02458, -2.31083, -0.43165,  0.87581, -0.07552,\n",
       "        0.66682,  1.65492, -0.71924,  1.39364,  0.5405 ,  0.55335,\n",
       "        1.00319, -0.76292, -0.26241, -1.32323, -0.15256, -0.30767,\n",
       "        0.37729,  0.02091,  1.05892, -0.30399,  1.76204, -1.38097,\n",
       "        0.96642, -0.34674,  0.92688, -1.05426, -0.50192,  0.11954,\n",
       "        0.97006,  2.01984,  0.00975,  0.65729, -1.01224,  0.93274,\n",
       "       -1.92116,  0.16212, -0.60644,  1.57021, -1.40166, -0.65263,\n",
       "       -0.08357,  0.78098,  1.5532 , -1.42135,  1.19238])"
      ]
     },
     "execution_count": 3,
     "metadata": {},
     "output_type": "execute_result"
    }
   ],
   "source": [
    "data[0]"
   ]
  },
  {
   "cell_type": "code",
   "execution_count": 4,
   "metadata": {},
   "outputs": [
    {
     "name": "stdout",
     "output_type": "stream",
     "text": [
      "(70, 101) (70, 1) (31, 101) (31, 1)\n"
     ]
    }
   ],
   "source": [
    "# 选择特征与标签\n",
    "x = data[:,0:100] \n",
    "y = data[:,100].reshape(-1,1)\n",
    "# 加一列\n",
    "X = np.column_stack((np.ones((x.shape[0],1)),x))\n",
    "\n",
    "# 划分训练集与测试集\n",
    "X_train, y_train = X[:70], y[:70]\n",
    "X_test, y_test = X[70:], y[70:]\n",
    "print(X_train.shape, y_train.shape, X_test.shape, y_test.shape)"
   ]
  },
  {
   "cell_type": "code",
   "execution_count": 5,
   "metadata": {},
   "outputs": [],
   "source": [
    "# 定义参数初始化函数\n",
    "def initialize(dims):\n",
    "    w = np.zeros((dims, 1))\n",
    "    b = 0\n",
    "    return w, b"
   ]
  },
  {
   "cell_type": "code",
   "execution_count": 6,
   "metadata": {},
   "outputs": [],
   "source": [
    "# 定义符号函数\n",
    "def sign(x):\n",
    "    if x > 0:\n",
    "        return 1\n",
    "    elif x < 0:\n",
    "        return -1\n",
    "    else:\n",
    "        return 0"
   ]
  },
  {
   "cell_type": "code",
   "execution_count": 7,
   "metadata": {},
   "outputs": [
    {
     "data": {
      "text/plain": [
       "array([[0],\n",
       "       [0],\n",
       "       [0]])"
      ]
     },
     "execution_count": 7,
     "metadata": {},
     "output_type": "execute_result"
    }
   ],
   "source": [
    "# 利用numpy对符号函数进行向量化\n",
    "vec_sign = np.vectorize(sign)\n",
    "vec_sign(np.zeros((3,1)))"
   ]
  },
  {
   "cell_type": "code",
   "execution_count": 8,
   "metadata": {},
   "outputs": [],
   "source": [
    "# 定义lasso损失函数\n",
    "def l1_loss(X, y, w, b, alpha):\n",
    "    num_train = X.shape[0]\n",
    "    num_feature = X.shape[1]\n",
    "    y_hat = np.dot(X, w) + b\n",
    "    loss = np.sum((y_hat-y)**2)/num_train + np.sum(alpha*abs(w))\n",
    "    dw = np.dot(X.T, (y_hat-y)) /num_train + alpha * vec_sign(w)\n",
    "    db = np.sum((y_hat-y)) /num_train\n",
    "    return y_hat, loss, dw, db"
   ]
  },
  {
   "cell_type": "code",
   "execution_count": 9,
   "metadata": {},
   "outputs": [],
   "source": [
    "# 定义训练过程\n",
    "def lasso_train(X, y, learning_rate=0.01, epochs=300):\n",
    "    loss_list = []\n",
    "    w, b = initialize(X.shape[1])\n",
    "    for i in range(1, epochs):\n",
    "        y_hat, loss, dw, db = l1_loss(X, y, w, b, 0.1)\n",
    "        w += -learning_rate * dw\n",
    "        b += -learning_rate * db\n",
    "        loss_list.append(loss)\n",
    "        \n",
    "        if i % 300 == 0:\n",
    "            print('epoch %d loss %f' % (i, loss))\n",
    "        params = {\n",
    "            'w': w,\n",
    "            'b': b\n",
    "        }\n",
    "        grads = {\n",
    "            'dw': dw,\n",
    "            'db': db\n",
    "        }\n",
    "    return loss, loss_list, params, grads"
   ]
  },
  {
   "cell_type": "code",
   "execution_count": 10,
   "metadata": {},
   "outputs": [
    {
     "name": "stdout",
     "output_type": "stream",
     "text": [
      "epoch 300 loss 1.673867\n",
      "epoch 600 loss 1.555281\n",
      "epoch 900 loss 1.524316\n",
      "epoch 1200 loss 1.511976\n",
      "epoch 1500 loss 1.509368\n",
      "epoch 1800 loss 1.508463\n",
      "epoch 2100 loss 1.508338\n",
      "epoch 2400 loss 1.508864\n",
      "epoch 2700 loss 1.509530\n"
     ]
    }
   ],
   "source": [
    "# 执行训练示例\n",
    "loss, loss_list, params, grads = lasso_train(X_train, y_train, 0.01, 3000)"
   ]
  },
  {
   "cell_type": "code",
   "execution_count": 11,
   "metadata": {},
   "outputs": [
    {
     "data": {
      "text/plain": [
       "{'w': array([[-0.00041529],\n",
       "        [-0.00014115],\n",
       "        [ 0.59391164],\n",
       "        [ 0.6335185 ],\n",
       "        [ 0.00050275],\n",
       "        [ 0.9985791 ],\n",
       "        [-0.0000955 ],\n",
       "        [ 0.82051643],\n",
       "        [-0.23826229],\n",
       "        [ 0.00064044],\n",
       "        [ 0.00043301],\n",
       "        [ 0.79235239],\n",
       "        [ 0.00022909],\n",
       "        [ 0.73841499],\n",
       "        [-0.00028807],\n",
       "        [-0.12857275],\n",
       "        [ 0.0002921 ],\n",
       "        [ 0.7844128 ],\n",
       "        [-0.00084306],\n",
       "        [ 0.8195022 ],\n",
       "        [ 0.00123168],\n",
       "        [ 0.00131829],\n",
       "        [ 0.00021678],\n",
       "        [ 0.56133444],\n",
       "        [ 0.00021596],\n",
       "        [-0.00090054],\n",
       "        [-0.00005326],\n",
       "        [-0.00135245],\n",
       "        [ 0.00034133],\n",
       "        [ 0.48838067],\n",
       "        [-0.00032193],\n",
       "        [-0.0004921 ],\n",
       "        [-0.00005526],\n",
       "        [ 0.00114506],\n",
       "        [-0.00061791],\n",
       "        [-0.00059156],\n",
       "        [ 0.00048164],\n",
       "        [-0.00020384],\n",
       "        [ 0.00057084],\n",
       "        [-0.00102998],\n",
       "        [-0.00054169],\n",
       "        [-0.0002805 ],\n",
       "        [ 0.00101831],\n",
       "        [-0.00102513],\n",
       "        [-0.00567446],\n",
       "        [ 0.0015754 ],\n",
       "        [ 0.001053  ],\n",
       "        [-0.00125031],\n",
       "        [-0.00045703],\n",
       "        [ 0.02809605],\n",
       "        [-0.00070136],\n",
       "        [ 0.00009679],\n",
       "        [ 0.0013873 ],\n",
       "        [-0.00025791],\n",
       "        [ 0.00119841],\n",
       "        [-0.06466344],\n",
       "        [ 0.25094866],\n",
       "        [-0.00005004],\n",
       "        [-0.0440221 ],\n",
       "        [-0.00043754],\n",
       "        [ 0.1062621 ],\n",
       "        [ 0.02986479],\n",
       "        [ 0.00050609],\n",
       "        [ 0.00043116],\n",
       "        [-0.00030005],\n",
       "        [-0.00070467],\n",
       "        [ 0.00028627],\n",
       "        [ 0.00004302],\n",
       "        [-0.00079951],\n",
       "        [ 0.1315655 ],\n",
       "        [ 0.23869857],\n",
       "        [-0.00127895],\n",
       "        [ 0.0003364 ],\n",
       "        [ 0.16924378],\n",
       "        [ 0.00128923],\n",
       "        [ 0.01345066],\n",
       "        [ 0.00062994],\n",
       "        [-0.00016568],\n",
       "        [ 0.00152369],\n",
       "        [ 0.00064383],\n",
       "        [-0.00046292],\n",
       "        [ 0.20233679],\n",
       "        [-0.00090021],\n",
       "        [ 0.00014678],\n",
       "        [-0.00053447],\n",
       "        [-0.04209405],\n",
       "        [-0.105762  ],\n",
       "        [-0.00023307],\n",
       "        [ 0.02504398],\n",
       "        [-0.11120495],\n",
       "        [ 0.0002648 ],\n",
       "        [-0.0005298 ],\n",
       "        [ 0.13383197],\n",
       "        [ 0.0005853 ],\n",
       "        [ 0.00007844],\n",
       "        [-0.05490195],\n",
       "        [-0.00032737],\n",
       "        [ 0.09524068],\n",
       "        [ 0.00003769],\n",
       "        [-0.177746  ],\n",
       "        [ 0.06708959]]),\n",
       " 'b': -0.24041528707142962}"
      ]
     },
     "execution_count": 11,
     "metadata": {},
     "output_type": "execute_result"
    }
   ],
   "source": [
    "# 获取训练参数\n",
    "np.set_printoptions(suppress=True)\n",
    "params"
   ]
  },
  {
   "cell_type": "code",
   "execution_count": 12,
   "metadata": {},
   "outputs": [
    {
     "data": {
      "text/plain": [
       "array([[-0.46873492],\n",
       "       [-2.8694067 ],\n",
       "       [ 0.44566828],\n",
       "       [-0.55241025],\n",
       "       [-3.15848274]])"
      ]
     },
     "execution_count": 12,
     "metadata": {},
     "output_type": "execute_result"
    }
   ],
   "source": [
    "# 定义预测函数\n",
    "def predict(X, params):\n",
    "    w = params['w']\n",
    "    b = params['b']\n",
    "    \n",
    "    y_pred = np.dot(X, w) + b\n",
    "    return y_pred\n",
    "\n",
    "y_pred = predict(X_test, params)\n",
    "y_pred[:5]"
   ]
  },
  {
   "cell_type": "code",
   "execution_count": 13,
   "metadata": {},
   "outputs": [
    {
     "data": {
      "text/plain": [
       "array([[ 0.24671],\n",
       "       [-4.25711],\n",
       "       [ 2.38642],\n",
       "       [-1.87815],\n",
       "       [-3.41362]])"
      ]
     },
     "execution_count": 13,
     "metadata": {},
     "output_type": "execute_result"
    }
   ],
   "source": [
    "y_test[:5]"
   ]
  },
  {
   "cell_type": "code",
   "execution_count": 14,
   "metadata": {},
   "outputs": [
    {
     "data": {
      "text/plain": [
       "0.7801343146422188"
      ]
     },
     "execution_count": 14,
     "metadata": {},
     "output_type": "execute_result"
    }
   ],
   "source": [
    "from sklearn.metrics import r2_score\n",
    "r2_score(y_test, y_pred)"
   ]
  },
  {
   "cell_type": "code",
   "execution_count": 15,
   "metadata": {},
   "outputs": [
    {
     "data": {
      "image/png": "[encoded data removed]",
      "text/plain": [
       "<Figure size 432x288 with 1 Axes>"
      ]
     },
     "metadata": {
      "needs_background": "light"
     },
     "output_type": "display_data"
    }
   ],
   "source": [
    "# 简单绘图\n",
    "import matplotlib.pyplot as plt\n",
    "f = X_test.dot(params['w']) + params['b']\n",
    "\n",
    "plt.scatter(range(X_test.shape[0]), y_test)\n",
    "plt.plot(f, color = 'darkorange')\n",
    "plt.xlabel('X')\n",
    "plt.ylabel('y')\n",
    "plt.show();"
   ]
  },
  {
   "cell_type": "code",
   "execution_count": 16,
   "metadata": {},
   "outputs": [
    {
     "data": {
      "image/png": "[encoded data removed]",
      "text/plain": [
       "<Figure size 432x288 with 1 Axes>"
      ]
     },
     "metadata": {
      "needs_background": "light"
     },
     "output_type": "display_data"
    }
   ],
   "source": [
    "# 训练过程中的损失下降\n",
    "plt.plot(loss_list, color = 'blue')\n",
    "plt.xlabel('epochs')\n",
    "plt.ylabel('loss')\n",
    "plt.show()"
   ]
  },
  {
   "cell_type": "code",
   "execution_count": 17,
   "metadata": {},
   "outputs": [
    {
     "name": "stdout",
     "output_type": "stream",
     "text": [
      "sklearn Lasso intercept : [-0.23824815]\n",
      "\n",
      "sklearn Lasso coefficients :\n",
      " [ 0.         -0.          0.59804516  0.64230683  0.          1.0070841\n",
      " -0.          0.81815409 -0.22756851  0.          0.          0.793601\n",
      "  0.          0.74108335 -0.         -0.1250168  -0.          0.79407074\n",
      "  0.          0.81867433  0.          0.         -0.          0.56664364\n",
      " -0.         -0.         -0.         -0.         -0.          0.49526526\n",
      "  0.          0.          0.          0.         -0.         -0.\n",
      " -0.         -0.         -0.         -0.          0.         -0.\n",
      "  0.         -0.         -0.0078254   0.          0.         -0.\n",
      " -0.          0.01986066  0.         -0.          0.         -0.\n",
      "  0.         -0.06797763  0.24581414  0.         -0.04180909 -0.\n",
      "  0.10542471  0.03156005  0.          0.          0.         -0.\n",
      " -0.          0.         -0.          0.12548825  0.2340209  -0.\n",
      "  0.          0.16875552  0.          0.01596168  0.         -0.\n",
      "  0.          0.         -0.          0.20050804 -0.         -0.\n",
      "  0.         -0.04148499 -0.10729826 -0.          0.02385741 -0.10792259\n",
      " -0.         -0.          0.12314032  0.          0.         -0.05876521\n",
      " -0.          0.09361648 -0.         -0.17806356  0.06636851]\n",
      "\n",
      "sklearn Lasso number of iterations : 24\n"
     ]
    }
   ],
   "source": [
    "# 导入线性模型模块\n",
    "from sklearn import linear_model\n",
    "# 创建lasso模型实例\n",
    "sk_lasso = linear_model.Lasso(alpha=0.1)\n",
    "# 对训练集进行拟合\n",
    "sk_lasso.fit(X_train, y_train)\n",
    "# 打印模型相关系数\n",
    "print(\"sklearn Lasso intercept :\", sk_lasso.intercept_)\n",
    "print(\"\\nsklearn Lasso coefficients :\\n\", sk_lasso.coef_)\n",
    "print(\"\\nsklearn Lasso number of iterations :\", sk_lasso.n_iter_)"
   ]
  },
  {
   "cell_type": "code",
   "execution_count": 18,
   "metadata": {},
   "outputs": [
    {
     "data": {
      "text/plain": [
       "0.7813972431658895"
      ]
     },
     "execution_count": 18,
     "metadata": {},
     "output_type": "execute_result"
    }
   ],
   "source": [
    "y_pred_sk = sk_lasso.predict(X_test)\n",
    "r2_score(y_test, y_pred_sk)"
   ]
  },
  {
   "cell_type": "code",
   "execution_count": 19,
   "metadata": {},
   "outputs": [
    {
     "data": {
      "text/plain": [
       "array([-0.48073235, -2.86532253,  0.42442107, -0.52994547, -3.10462756,\n",
       "        2.76344081, -2.40542749,  1.51009792,  2.82350529,  2.85868558,\n",
       "       -1.74384074,  1.56683964, -2.92297551, -0.2411056 ,  1.23625019,\n",
       "        0.04249602,  0.87356165, -1.84571833,  4.39267241,  1.45433156,\n",
       "        1.23232892,  1.36966139, -1.4145903 ,  1.43769123, -2.88230073,\n",
       "       -5.3098622 ,  1.47151811, -1.18274622,  0.80916468,  2.47638843,\n",
       "       -0.26473997])"
      ]
     },
     "execution_count": 19,
     "metadata": {},
     "output_type": "execute_result"
    }
   ],
   "source": [
    "y_pred_sk"
   ]
  },
  {
   "cell_type": "code",
   "execution_count": null,
   "metadata": {},
   "outputs": [],
   "source": []
  }
 ],
 "metadata": {
  "kernelspec": {
   "display_name": "Python 3 (ipykernel)",
   "language": "python",
   "name": "python3"
  },
  "language_info": {
   "codemirror_mode": {
    "name": "ipython",
    "version": 3
   },
   "file_extension": ".py",
   "mimetype": "text/x-python",
   "name": "python",
   "nbconvert_exporter": "python",
   "pygments_lexer": "ipython3",
   "version": "3.9.7"
  },
  "toc": {
   "base_numbering": 1,
   "nav_menu": {},
   "number_sections": true,
   "sideBar": true,
   "skip_h1_title": false,
   "title_cell": "Table of Contents",
   "title_sidebar": "Contents",
   "toc_cell": false,
   "toc_position": {},
   "toc_section_display": true,
   "toc_window_display": false
  }
 },
 "nbformat": 4,
 "nbformat_minor": 2
}
