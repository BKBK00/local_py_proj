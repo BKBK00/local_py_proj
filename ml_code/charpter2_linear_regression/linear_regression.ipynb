{
 "cells": [
  {
   "cell_type": "markdown",
   "metadata": {},
   "source": [
    "## 线性回归"
   ]
  },
  {
   "cell_type": "code",
   "execution_count": 1,
   "metadata": {},
   "outputs": [],
   "source": [
    "### numpy版本为1.20.3\n",
    "import numpy as np\n",
    "import pandas as pd"
   ]
  },
  {
   "cell_type": "code",
   "execution_count": 2,
   "metadata": {},
   "outputs": [],
   "source": [
    "### 初始化模型参数\n",
    "def initialize_params(dims):\n",
    "    '''\n",
    "    输入：\n",
    "    dims：训练数据变量维度\n",
    "    输出：\n",
    "    w：初始化权重参数值\n",
    "    b：初始化偏差参数值\n",
    "    '''\n",
    "    # 初始化权重参数为零矩阵\n",
    "    w = np.zeros((dims, 1))\n",
    "    # 初始化偏差参数为零\n",
    "    b = 0\n",
    "    return w, b"
   ]
  },
  {
   "cell_type": "code",
   "execution_count": 3,
   "metadata": {
    "code_folding": []
   },
   "outputs": [],
   "source": [
    "### 定义模型主体部分\n",
    "### 包括线性回归公式、均方损失和参数偏导三部分\n",
    "def linear_loss(X, y, w, b):\n",
    "    '''\n",
    "    输入:\n",
    "    X：输入变量矩阵\n",
    "    y：输出标签向量\n",
    "    w：变量参数权重矩阵\n",
    "    b：偏差项\n",
    "    输出：\n",
    "    y_hat：线性模型预测输出\n",
    "    loss：均方损失值\n",
    "    dw：权重参数一阶偏导\n",
    "    db：偏差项一阶偏导\n",
    "    '''\n",
    "    # 训练样本数量\n",
    "    num_train = X.shape[0]\n",
    "    # 训练特征数量\n",
    "    num_feature = X.shape[1]\n",
    "    # 线性回归预测输出\n",
    "    y_hat = np.dot(X, w) + b\n",
    "    # 计算预测输出与实际标签之间的均方损失\n",
    "    loss = np.sum((y_hat-y)**2)/num_train\n",
    "    # 基于均方损失对权重参数的一阶偏导数\n",
    "    dw = np.dot(X.T, (y_hat-y)) /num_train\n",
    "    # 基于均方损失对偏差项的一阶偏导数\n",
    "    db = np.sum((y_hat-y)) /num_train\n",
    "    return y_hat, loss, dw, db"
   ]
  },
  {
   "cell_type": "code",
   "execution_count": 4,
   "metadata": {},
   "outputs": [],
   "source": [
    "### 定义线性回归模型训练过程\n",
    "def linear_train(X, y, learning_rate=0.01, epochs=10000):\n",
    "    '''\n",
    "    输入：\n",
    "    X：输入变量矩阵\n",
    "    y：输出标签向量\n",
    "    learning_rate：学习率\n",
    "    epochs：训练迭代次数\n",
    "    输出：\n",
    "    loss_his：每次迭代的均方损失\n",
    "    params：优化后的参数字典\n",
    "    grads：优化后的参数梯度字典\n",
    "    '''\n",
    "    # 记录训练损失的空列表\n",
    "    loss_his = []\n",
    "    # 初始化模型参数\n",
    "    w, b = initialize_params(X.shape[1])\n",
    "    # 迭代训练\n",
    "    for i in range(1, epochs):\n",
    "        # 计算当前迭代的预测值、损失和梯度\n",
    "        y_hat, loss, dw, db = linear_loss(X, y, w, b)\n",
    "        # 基于梯度下降的参数更新\n",
    "        w += -learning_rate * dw\n",
    "        b += -learning_rate * db\n",
    "        # 记录当前迭代的损失\n",
    "        loss_his.append(loss)\n",
    "        # 每1000次迭代打印当前损失信息\n",
    "        if i % 10000 == 0:\n",
    "            print('epoch %d loss %f' % (i, loss))\n",
    "        # 将当前迭代步优化后的参数保存到字典\n",
    "        params = {\n",
    "            'w': w,\n",
    "            'b': b\n",
    "        }\n",
    "        # 将当前迭代步的梯度保存到字典\n",
    "        grads = {\n",
    "            'dw': dw,\n",
    "            'db': db\n",
    "        }     \n",
    "    return loss_his, params, grads"
   ]
  },
  {
   "cell_type": "code",
   "execution_count": 5,
   "metadata": {},
   "outputs": [
    {
     "name": "stdout",
     "output_type": "stream",
     "text": [
      "(442, 10)\n",
      "(442,)\n",
      "[[ 0.03807591  0.05068012  0.06169621  0.02187235 -0.0442235  -0.03482076\n",
      "  -0.04340085 -0.00259226  0.01990842 -0.01764613]\n",
      " [-0.00188202 -0.04464164 -0.05147406 -0.02632783 -0.00844872 -0.01916334\n",
      "   0.07441156 -0.03949338 -0.06832974 -0.09220405]\n",
      " [ 0.08529891  0.05068012  0.04445121 -0.00567061 -0.04559945 -0.03419447\n",
      "  -0.03235593 -0.00259226  0.00286377 -0.02593034]\n",
      " [-0.08906294 -0.04464164 -0.01159501 -0.03665645  0.01219057  0.02499059\n",
      "  -0.03603757  0.03430886  0.02269202 -0.00936191]\n",
      " [ 0.00538306 -0.04464164 -0.03638469  0.02187235  0.00393485  0.01559614\n",
      "   0.00814208 -0.00259226 -0.03199144 -0.04664087]]\n",
      "[151.  75. 141. 206. 135.]\n"
     ]
    }
   ],
   "source": [
    "from sklearn.datasets import load_diabetes\n",
    "diabetes = load_diabetes()\n",
    "data = diabetes.data\n",
    "target = diabetes.target \n",
    "print(data.shape)\n",
    "print(target.shape)\n",
    "print(data[:5])\n",
    "print(target[:5])"
   ]
  },
  {
   "cell_type": "code",
   "execution_count": 6,
   "metadata": {},
   "outputs": [
    {
     "name": "stdout",
     "output_type": "stream",
     "text": [
      "X_train's shape:  (353, 10)\n",
      "X_test's shape:  (89, 10)\n",
      "y_train's shape:  (353, 1)\n",
      "y_test's shape:  (89, 1)\n"
     ]
    }
   ],
   "source": [
    "# 导入sklearn diabetes数据接口\n",
    "from sklearn.datasets import load_diabetes\n",
    "# 导入sklearn打乱数据函数\n",
    "from sklearn.utils import shuffle\n",
    "# 获取diabetes数据集\n",
    "diabetes = load_diabetes()\n",
    "# 获取输入和标签\n",
    "data, target = diabetes.data, diabetes.target \n",
    "# 打乱数据集\n",
    "X, y = shuffle(data, target, random_state=13)\n",
    "# 按照8/2划分训练集和测试集\n",
    "offset = int(X.shape[0] * 0.8)\n",
    "# 训练集\n",
    "X_train, y_train = X[:offset], y[:offset]\n",
    "# 测试集\n",
    "X_test, y_test = X[offset:], y[offset:]\n",
    "# 将训练集改为列向量的形式\n",
    "y_train = y_train.reshape((-1,1))\n",
    "# 将验证集改为列向量的形式\n",
    "y_test = y_test.reshape((-1,1))\n",
    "# 打印训练集和测试集维度\n",
    "print(\"X_train's shape: \", X_train.shape)\n",
    "print(\"X_test's shape: \", X_test.shape)\n",
    "print(\"y_train's shape: \", y_train.shape)\n",
    "print(\"y_test's shape: \", y_test.shape)"
   ]
  },
  {
   "cell_type": "code",
   "execution_count": 7,
   "metadata": {},
   "outputs": [
    {
     "name": "stdout",
     "output_type": "stream",
     "text": [
      "epoch 10000 loss 3679.868273\n",
      "epoch 20000 loss 3219.164522\n",
      "epoch 30000 loss 3040.820279\n",
      "epoch 40000 loss 2944.936608\n",
      "epoch 50000 loss 2885.991571\n",
      "epoch 60000 loss 2848.051813\n",
      "epoch 70000 loss 2823.157085\n",
      "epoch 80000 loss 2806.627821\n",
      "epoch 90000 loss 2795.546917\n",
      "epoch 100000 loss 2788.051561\n",
      "epoch 110000 loss 2782.935842\n",
      "epoch 120000 loss 2779.411265\n",
      "epoch 130000 loss 2776.957989\n",
      "epoch 140000 loss 2775.230803\n",
      "epoch 150000 loss 2773.998942\n",
      "epoch 160000 loss 2773.107192\n",
      "epoch 170000 loss 2772.450534\n",
      "epoch 180000 loss 2771.957489\n",
      "epoch 190000 loss 2771.579121\n",
      "{'w': array([[  10.56390075],\n",
      "       [-236.41625133],\n",
      "       [ 481.50915635],\n",
      "       [ 294.47043558],\n",
      "       [ -60.99362023],\n",
      "       [-110.54181897],\n",
      "       [-206.44046579],\n",
      "       [ 163.23511378],\n",
      "       [ 409.28971463],\n",
      "       [  65.73254667]]), 'b': 150.8144748910088}\n"
     ]
    }
   ],
   "source": [
    "# 线性回归模型训练\n",
    "loss_his, params, grads = linear_train(X_train, y_train, 0.01, 200000)\n",
    "# 打印训练后得到模型参数\n",
    "print(params)"
   ]
  },
  {
   "cell_type": "code",
   "execution_count": 8,
   "metadata": {},
   "outputs": [
    {
     "data": {
      "text/plain": [
       "array([[ 82.0537503 ],\n",
       "       [167.22420149],\n",
       "       [112.38335719],\n",
       "       [138.15504748],\n",
       "       [174.71840809]])"
      ]
     },
     "execution_count": 8,
     "metadata": {},
     "output_type": "execute_result"
    }
   ],
   "source": [
    "### 定义线性回归预测函数\n",
    "def predict(X, params):\n",
    "    '''\n",
    "    输入：\n",
    "    X：测试数据集\n",
    "    params：模型训练参数\n",
    "    输出：\n",
    "    y_pred：模型预测结果\n",
    "    '''\n",
    "    # 获取模型参数\n",
    "    w = params['w']\n",
    "    b = params['b']\n",
    "    # 预测\n",
    "    y_pred = np.dot(X, w) + b\n",
    "    return y_pred\n",
    "# 基于测试集的预测\n",
    "y_pred = predict(X_test, params)\n",
    "# 打印前五个预测值\n",
    "y_pred[:5]"
   ]
  },
  {
   "cell_type": "code",
   "execution_count": 9,
   "metadata": {},
   "outputs": [
    {
     "name": "stdout",
     "output_type": "stream",
     "text": [
      "[[ 37.]\n",
      " [122.]\n",
      " [ 88.]\n",
      " [214.]\n",
      " [262.]]\n"
     ]
    }
   ],
   "source": [
    "print(y_test[:5])"
   ]
  },
  {
   "cell_type": "code",
   "execution_count": 10,
   "metadata": {},
   "outputs": [],
   "source": [
    "### 定义R2系数函数\n",
    "def r2_score(y_test, y_pred):\n",
    "    '''\n",
    "    输入：\n",
    "    y_test：测试集标签值\n",
    "    y_pred：测试集预测值\n",
    "    输出：\n",
    "    r2：R2系数\n",
    "    '''\n",
    "    # 测试标签均值\n",
    "    y_avg = np.mean(y_test)\n",
    "    # 总离差平方和\n",
    "    ss_tot = np.sum((y_test - y_avg)**2)\n",
    "    # 残差平方和\n",
    "    ss_res = np.sum((y_test - y_pred)**2)\n",
    "    # R2计算\n",
    "    r2 = 1 - (ss_res/ss_tot)\n",
    "    return r2"
   ]
  },
  {
   "cell_type": "code",
   "execution_count": 11,
   "metadata": {},
   "outputs": [
    {
     "name": "stdout",
     "output_type": "stream",
     "text": [
      "0.5334188457463577\n"
     ]
    }
   ],
   "source": [
    "print(r2_score(y_test, y_pred))"
   ]
  },
  {
   "cell_type": "code",
   "execution_count": 12,
   "metadata": {},
   "outputs": [
    {
     "data": {
      "image/png": "[encoded data removed]",
      "text/plain": [
       "<Figure size 432x288 with 1 Axes>"
      ]
     },
     "metadata": {
      "needs_background": "light"
     },
     "output_type": "display_data"
    }
   ],
   "source": [
    "import matplotlib.pyplot as plt\n",
    "f = X_test.dot(params['w']) + params['b']\n",
    "\n",
    "plt.scatter(range(X_test.shape[0]), y_test)\n",
    "plt.plot(f, color = 'darkorange')\n",
    "plt.xlabel('X_test')\n",
    "plt.ylabel('y_test')\n",
    "plt.show();"
   ]
  },
  {
   "cell_type": "code",
   "execution_count": 13,
   "metadata": {},
   "outputs": [
    {
     "data": {
      "image/png": "[encoded data removed]",
      "text/plain": [
       "<Figure size 432x288 with 1 Axes>"
      ]
     },
     "metadata": {
      "needs_background": "light"
     },
     "output_type": "display_data"
    }
   ],
   "source": [
    "plt.plot(loss_his, color='blue')\n",
    "plt.xlabel('epochs')\n",
    "plt.ylabel('loss')\n",
    "plt.show()"
   ]
  },
  {
   "cell_type": "code",
   "execution_count": 14,
   "metadata": {},
   "outputs": [
    {
     "name": "stdout",
     "output_type": "stream",
     "text": [
      "Mean squared error: 3371.88\n",
      "R2 score: 0.54\n"
     ]
    }
   ],
   "source": [
    "### sklearn版本为1.0.2\n",
    "# 导入线性回归模块\n",
    "from sklearn import linear_model\n",
    "from sklearn.metrics import mean_squared_error, r2_score\n",
    "# 创建模型实例\n",
    "regr = linear_model.LinearRegression()\n",
    "# 模型拟合\n",
    "regr.fit(X_train, y_train)\n",
    "# 模型预测\n",
    "y_pred = regr.predict(X_test)\n",
    "# 打印模型均方误差\n",
    "print(\"Mean squared error: %.2f\" % mean_squared_error(y_test, y_pred))\n",
    "# 打印R2\n",
    "print('R2 score: %.2f' % r2_score(y_test, y_pred))"
   ]
  },
  {
   "cell_type": "code",
   "execution_count": null,
   "metadata": {},
   "outputs": [],
   "source": []
  }
 ],
 "metadata": {
  "kernelspec": {
   "display_name": "Python 3 (ipykernel)",
   "language": "python",
   "name": "python3"
  },
  "language_info": {
   "codemirror_mode": {
    "name": "ipython",
    "version": 3
   },
   "file_extension": ".py",
   "mimetype": "text/x-python",
   "name": "python",
   "nbconvert_exporter": "python",
   "pygments_lexer": "ipython3",
   "version": "3.9.7"
  },
  "toc": {
   "base_numbering": 1,
   "nav_menu": {},
   "number_sections": true,
   "sideBar": true,
   "skip_h1_title": false,
   "title_cell": "Table of Contents",
   "title_sidebar": "Contents",
   "toc_cell": false,
   "toc_position": {},
   "toc_section_display": true,
   "toc_window_display": false
  }
 },
 "nbformat": 4,
 "nbformat_minor": 2
}
